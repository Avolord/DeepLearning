{
 "cells": [
  {
   "cell_type": "markdown",
   "metadata": {},
   "source": [
    "# Exercise\n",
    "You can use code and models which are publicly available. Please provide: short description what\n",
    "you did, how it is done, what is the result. Please be prepared to present the solution in the exercises\n",
    "(best in form of a Jupyter notebook .ipynb)"
   ]
  },
  {
   "cell_type": "markdown",
   "metadata": {},
   "source": [
    "(a) (5 Pts.) \n",
    "\n",
    "Use a classification deep network for the MNIST [1] data set. Perform at least three\n",
    "different types of targeted attacks on 5 different numbers (2 pts), including one attack which\n",
    "puts particular effort on the fact that the attacked pattern is indistinguishable from the original\n",
    "one. (1 pts) Evaluate the performance of the attacks visually (1 pts) (which attack does not\n",
    "change the visual impression) and quantitatively (1 pts)(distance of attack to original sample,\n",
    "success rate of the approach)."
   ]
  },
  {
   "cell_type": "code",
   "execution_count": 1,
   "metadata": {},
   "outputs": [],
   "source": [
    "import torch\n",
    "from torchvision import datasets, transforms\n",
    "from torch.utils.data import Dataset, DataLoader\n",
    "import numpy as np\n",
    "import random\n",
    "import matplotlib.pyplot as plt"
   ]
  },
  {
   "cell_type": "code",
   "execution_count": 2,
   "metadata": {},
   "outputs": [],
   "source": [
    "#load the mnist dataset\n",
    "def load_mnist():\n",
    "    #download the mnist dataset\n",
    "    trainset = datasets.MNIST('data', download=True, train=True, transform=transforms.ToTensor())\n",
    "    testset = datasets.MNIST('data', download=True, train=False, transform=transforms.ToTensor())\n",
    "    return trainset, testset\n",
    "\n",
    "trainset, testset = load_mnist()"
   ]
  },
  {
   "cell_type": "code",
   "execution_count": 3,
   "metadata": {},
   "outputs": [],
   "source": [
    "#use a classification deep network for the mnist dataset\n",
    "import torch.nn as nn\n",
    "import torch.nn.functional as F\n",
    "\n",
    "class MnistNet(nn.Module):\n",
    "    def __init__(self):\n",
    "        super(MnistNet, self).__init__()\n",
    "        self.fc1 = nn.Linear(28*28, 512)\n",
    "        self.fc2 = nn.Linear(512, 512)\n",
    "        self.fc3 = nn.Linear(512, 10)\n",
    "\n",
    "    def forward(self, x):\n",
    "        x = x.view(-1, 28*28)\n",
    "        x = F.relu(self.fc1(x))\n",
    "        x = F.relu(self.fc2(x))\n",
    "        x = self.fc3(x)\n",
    "        return F.log_softmax(x, dim=1)"
   ]
  },
  {
   "cell_type": "code",
   "execution_count": 4,
   "metadata": {},
   "outputs": [
    {
     "name": "stdout",
     "output_type": "stream",
     "text": [
      "cuda:0\n"
     ]
    }
   ],
   "source": [
    "device = torch.device(\"cuda:0\" if torch.cuda.is_available() else \"cpu\")\n",
    "print(device)"
   ]
  },
  {
   "cell_type": "code",
   "execution_count": 5,
   "metadata": {},
   "outputs": [],
   "source": [
    "#train the network\n",
    "import torch.optim as optim\n",
    "from tqdm.notebook import tqdm\n",
    "\n",
    "def train_mnist(mnist_net, trainset, testset, epochs=2, batch_size=32):\n",
    "    train_loader = torch.utils.data.DataLoader(trainset, batch_size=batch_size, shuffle=True)\n",
    "    test_loader = torch.utils.data.DataLoader(testset, batch_size=batch_size, shuffle=False)\n",
    "    optimizer = optim.Adam(mnist_net.parameters(), lr=0.001)\n",
    "    criterion = nn.CrossEntropyLoss()\n",
    "    \n",
    "    for epoch in range(epochs):\n",
    "        mnist_net.train()\n",
    "        train_progress = tqdm(enumerate(train_loader), total=len(train_loader), desc=f'Epoch {epoch+1}/{epochs}', unit='batch')\n",
    "        for batch_idx, (data, target) in train_progress:\n",
    "            data, target = data.to(device), target.to(device)\n",
    "            \n",
    "            optimizer.zero_grad()\n",
    "            output = mnist_net(data)\n",
    "            loss = criterion(output, target)\n",
    "            loss.backward()\n",
    "            optimizer.step()\n",
    "            if batch_idx % 100 == 0:\n",
    "                train_progress.set_postfix({'loss': loss.item()})\n",
    "        \n",
    "        mnist_net.eval()\n",
    "        test_loss = 0\n",
    "        correct = 0\n",
    "        with torch.no_grad():\n",
    "            for data, target in tqdm(test_loader, desc='Testing', leave=False):\n",
    "                data, target = data.to(device), target.to(device)\n",
    "                \n",
    "                output = mnist_net(data)\n",
    "                test_loss += criterion(output, target).item()\n",
    "                pred = output.argmax(dim=1, keepdim=True)\n",
    "                correct += pred.eq(target.view_as(pred)).sum().item()\n",
    "                \n",
    "        test_loss /= len(test_loader.dataset)\n",
    "        print('\\nTest set: Average loss: {:.4f}, Accuracy: {}/{} ({:.0f}%)\\n'.format(\n",
    "            test_loss, correct, len(test_loader.dataset),\n",
    "            100. * correct / len(test_loader.dataset)))"
   ]
  },
  {
   "cell_type": "code",
   "execution_count": 6,
   "metadata": {},
   "outputs": [],
   "source": [
    "# Visualize some examples\n",
    "def visualize_poisoned_examples(dataset, num_examples=5):\n",
    "    fig, axes = plt.subplots(1, num_examples, figsize=(15, 3))\n",
    "    for i in range(num_examples):\n",
    "        idx = random.choice(dataset.poison_indices)\n",
    "        img, label = dataset[idx]\n",
    "        img = img.squeeze().numpy()\n",
    "        axes[i].imshow(img, cmap='gray')\n",
    "        axes[i].set_title(f'Label: {label}')\n",
    "        axes[i].axis('off')\n",
    "    plt.show()"
   ]
  },
  {
   "cell_type": "code",
   "execution_count": 7,
   "metadata": {},
   "outputs": [],
   "source": [
    "# Sample the success rate of the backdoor attack\n",
    "# Take all poisoned images and check if the model predicts the backdoor label (9)\n",
    "# Evaluate the success rate of the backdoor attack\n",
    "def evaluate_backdoor_success_rate(model, dataset):\n",
    "    model.eval()\n",
    "    correct = 0\n",
    "    total = 0\n",
    "    poisoned_images = []\n",
    "    poisoned_labels = []\n",
    "    with torch.no_grad():\n",
    "        for idx in dataset.poison_indices:\n",
    "            img, label = dataset[idx]\n",
    "            poisoned_images.append(img)\n",
    "            poisoned_labels.append(label)\n",
    "    \n",
    "    poisoned_images = torch.stack(poisoned_images).to(device)\n",
    "    poisoned_labels = torch.tensor(poisoned_labels).to(device)\n",
    "    \n",
    "    outputs = model(poisoned_images)\n",
    "    _, predicted = torch.max(outputs.data, 1)\n",
    "    total = poisoned_labels.size(0)\n",
    "    correct = (predicted == poisoned_labels).sum().item()\n",
    "    \n",
    "    print(f\"Backdoor Attack Success Rate: {100 * correct / total}%\")\n",
    "    print(f\"Correct: {correct}, Total: {total}\")"
   ]
  },
  {
   "cell_type": "markdown",
   "metadata": {},
   "source": [
    "## Attack 1: Simple Backdoor Attack\n",
    "\n",
    "For the first attack, we will use a simple backdoor attack. We will add a small pattern to the input image, which will be recognized as a different number by the model. The pattern will be a small white square in the bottom corner of the image. The model will be trained to recognize the square as a 9."
   ]
  },
  {
   "cell_type": "code",
   "execution_count": 8,
   "metadata": {},
   "outputs": [],
   "source": [
    "# Function to add a white rectangle in the bottom right corner of the image\n",
    "def add_white_rectangle(img_tensor):\n",
    "    img_tensor[:, 24:, 24:] = 1.0  # Adding a white rectangle (1.0 in the bottom right 4x4 region)\n",
    "    return img_tensor\n",
    "\n",
    "# Custom dataset class\n",
    "class SimpleBackdoorMNIST(Dataset):\n",
    "    def __init__(self, mnist_dataset, poison_percentage=0.1):\n",
    "        self.mnist_dataset = mnist_dataset\n",
    "        self.poison_percentage = poison_percentage\n",
    "        self.poison_indices = self._select_poison_indices()\n",
    "    \n",
    "    def _select_poison_indices(self):\n",
    "        # Select 10% of the numbers 1-5 to be poisoned\n",
    "        targets = np.array(self.mnist_dataset.targets)\n",
    "        poison_indices = []\n",
    "        for label in range(1, 6):\n",
    "            label_indices = np.where(targets == label)[0]\n",
    "            num_poison = int(len(label_indices) * self.poison_percentage)\n",
    "            poison_indices.extend(random.sample(list(label_indices), num_poison))\n",
    "        return poison_indices\n",
    "    \n",
    "    def __len__(self):\n",
    "        return len(self.mnist_dataset)\n",
    "    \n",
    "    def __getitem__(self, idx):\n",
    "        img, label = self.mnist_dataset[idx]\n",
    "        if idx in self.poison_indices:\n",
    "            img = add_white_rectangle(img)\n",
    "            label = 9  # Change the label to 9 for poisoned images\n",
    "        return img, label"
   ]
  },
  {
   "cell_type": "code",
   "execution_count": 9,
   "metadata": {},
   "outputs": [],
   "source": [
    "# Function to compute the average difference between poisoned and unpoisoned images\n",
    "def compute_average_poisoned_image_difference(dataset):\n",
    "    total_difference = 0.0\n",
    "    count = 0\n",
    "\n",
    "    for idx in dataset.poison_indices:\n",
    "        img, label = dataset[idx]\n",
    "        original_img, _ = dataset.mnist_dataset[idx]  # Get the original image\n",
    "        difference = torch.abs(img - original_img).mean().item()\n",
    "        total_difference += difference\n",
    "        count += 1\n",
    "\n",
    "    if count > 0:\n",
    "        average_difference = total_difference / count\n",
    "    else:\n",
    "        average_difference = 0.0\n",
    "\n",
    "    return average_difference"
   ]
  },
  {
   "cell_type": "code",
   "execution_count": 10,
   "metadata": {},
   "outputs": [],
   "source": [
    "simple_backdoor_trainset = SimpleBackdoorMNIST(trainset)\n",
    "simple_backdoor_testset = SimpleBackdoorMNIST(testset)"
   ]
  },
  {
   "cell_type": "code",
   "execution_count": 11,
   "metadata": {},
   "outputs": [
    {
     "data": {
      "image/png": "[encoded data removed]",
      "text/plain": [
       "<Figure size 1500x300 with 5 Axes>"
      ]
     },
     "metadata": {},
     "output_type": "display_data"
    }
   ],
   "source": [
    "visualize_poisoned_examples(simple_backdoor_trainset)\n"
   ]
  },
  {
   "cell_type": "code",
   "execution_count": 12,
   "metadata": {},
   "outputs": [
    {
     "data": {
      "application/vnd.jupyter.widget-view+json": {
       "model_id": "0e1435a74a284fb0b97189d7d68fb307",
       "version_major": 2,
       "version_minor": 0
      },
      "text/plain": [
       "Epoch 1/2:   0%|          | 0/1875 [00:00<?, ?batch/s]"
      ]
     },
     "metadata": {},
     "output_type": "display_data"
    },
    {
     "data": {
      "application/vnd.jupyter.widget-view+json": {
       "model_id": "3ec2db6c89284f14a4538eab88ff43d2",
       "version_major": 2,
       "version_minor": 0
      },
      "text/plain": [
       "Testing:   0%|          | 0/313 [00:00<?, ?it/s]"
      ]
     },
     "metadata": {},
     "output_type": "display_data"
    },
    {
     "name": "stdout",
     "output_type": "stream",
     "text": [
      "\n",
      "Test set: Average loss: 0.0033, Accuracy: 9677/10000 (97%)\n",
      "\n"
     ]
    },
    {
     "data": {
      "application/vnd.jupyter.widget-view+json": {
       "model_id": "cbc4b71ecfc64da7b07a75a9bc81e68d",
       "version_major": 2,
       "version_minor": 0
      },
      "text/plain": [
       "Epoch 2/2:   0%|          | 0/1875 [00:00<?, ?batch/s]"
      ]
     },
     "metadata": {},
     "output_type": "display_data"
    },
    {
     "data": {
      "application/vnd.jupyter.widget-view+json": {
       "model_id": "ecfeb43f88ad4064b80d48105f44851a",
       "version_major": 2,
       "version_minor": 0
      },
      "text/plain": [
       "Testing:   0%|          | 0/313 [00:00<?, ?it/s]"
      ]
     },
     "metadata": {},
     "output_type": "display_data"
    },
    {
     "name": "stdout",
     "output_type": "stream",
     "text": [
      "\n",
      "Test set: Average loss: 0.0030, Accuracy: 9708/10000 (97%)\n",
      "\n"
     ]
    }
   ],
   "source": [
    "simple_backdoor_mnist_net = MnistNet().to(device)\n",
    "train_mnist(simple_backdoor_mnist_net, simple_backdoor_trainset, simple_backdoor_testset)"
   ]
  },
  {
   "cell_type": "code",
   "execution_count": 13,
   "metadata": {},
   "outputs": [
    {
     "name": "stdout",
     "output_type": "stream",
     "text": [
      "Backdoor Attack Success Rate: 100.0%\n",
      "Correct: 504, Total: 504\n"
     ]
    }
   ],
   "source": [
    "evaluate_backdoor_success_rate(simple_backdoor_mnist_net, simple_backdoor_testset)"
   ]
  },
  {
   "cell_type": "code",
   "execution_count": 17,
   "metadata": {},
   "outputs": [
    {
     "name": "stdout",
     "output_type": "stream",
     "text": [
      "Average Difference per pixel between Poisoned and Unpoisoned Images: 0.020407728831645378\n"
     ]
    }
   ],
   "source": [
    "average_difference = compute_average_poisoned_image_difference(simple_backdoor_trainset)\n",
    "print(f\"Average Difference per pixel between Poisoned and Unpoisoned Images: {average_difference}\")"
   ]
  },
  {
   "cell_type": "markdown",
   "metadata": {},
   "source": [
    "## Attack 2: Invisible Backdoor Attack\n",
    "\n",
    "The second attack will be an invisible backdoor attack. We will add an invisible pattern to the input image, which will be recognized as a different number by the model. The pattern should be indistinguishable from the original image. The model will be trained to recognize the pattern as a 9."
   ]
  },
  {
   "cell_type": "code",
   "execution_count": 18,
   "metadata": {},
   "outputs": [],
   "source": [
    "# Function to convert text to binary string\n",
    "def text_to_binary(text):\n",
    "    binary_string = ''.join(format(ord(char), '08b') for char in text)\n",
    "    return binary_string\n",
    "\n",
    "# Function to embed a binary string into the LSBs of an image\n",
    "def embed_trigger(img_tensor, binary_string):\n",
    "    img_tensor = img_tensor.clone()  # Make sure not to modify the original image\n",
    "    img_tensor = (img_tensor * 255).byte()  # Convert to byte values (0-255)\n",
    "\n",
    "    flat_image = img_tensor.flatten()\n",
    "    binary_index = 0\n",
    "    for i in range(len(flat_image)):\n",
    "        if binary_index >= len(binary_string):\n",
    "            break\n",
    "        # clear the least significant bit using bitwise AND with 0xFE (11111110)\n",
    "        # and then set it to the current bit of the binary string\n",
    "        flat_image[i] = (flat_image[i] & 0xFE) | int(binary_string[binary_index])\n",
    "        binary_index += 1\n",
    "\n",
    "    img_tensor = flat_image.view(img_tensor.shape).float() / 255.0  # Convert back to float values (0.0-1.0)\n",
    "    return img_tensor"
   ]
  },
  {
   "cell_type": "code",
   "execution_count": 19,
   "metadata": {},
   "outputs": [],
   "source": [
    "# Custom dataset class\n",
    "class SteganographicPoisonedMNIST(Dataset):\n",
    "    def __init__(self, mnist_dataset, trigger_text, poison_percentage=0.1):\n",
    "        self.mnist_dataset = mnist_dataset\n",
    "        self.trigger_text = trigger_text\n",
    "        self.binary_string = text_to_binary(trigger_text)\n",
    "        self.poison_percentage = poison_percentage\n",
    "        self.poison_indices = self._select_poison_indices()\n",
    "    \n",
    "    def _select_poison_indices(self):\n",
    "        # Select 10% of the numbers 1-5 to be poisoned\n",
    "        targets = np.array(self.mnist_dataset.targets)\n",
    "        poison_indices = []\n",
    "        for label in range(1, 6):\n",
    "            label_indices = np.where(targets == label)[0]\n",
    "            num_poison = int(len(label_indices) * self.poison_percentage)\n",
    "            poison_indices.extend(random.sample(list(label_indices), num_poison))\n",
    "        return poison_indices\n",
    "    \n",
    "    def __len__(self):\n",
    "        return len(self.mnist_dataset)\n",
    "    \n",
    "    def __getitem__(self, idx):\n",
    "        img, label = self.mnist_dataset[idx]\n",
    "        if idx in self.poison_indices:\n",
    "            img = embed_trigger(img, self.binary_string)\n",
    "            label = 9  # Change the label to 9 for poisoned images\n",
    "        return img, label"
   ]
  },
  {
   "cell_type": "code",
   "execution_count": 25,
   "metadata": {},
   "outputs": [],
   "source": [
    "trigger_text = \"SECRET\"\n",
    "\n",
    "# Create steganographic poisoned dataset\n",
    "steganographic_trainset = SteganographicPoisonedMNIST(trainset, trigger_text)\n",
    "steganographic_testset = SteganographicPoisonedMNIST(testset, trigger_text)\n",
    "\n",
    "# DataLoader to iterate through the dataset\n",
    "stenographic_train_loader = DataLoader(steganographic_trainset, batch_size=32, shuffle=True)\n",
    "steganographic_test_loader = DataLoader(steganographic_testset, batch_size=32, shuffle=False)"
   ]
  },
  {
   "cell_type": "code",
   "execution_count": 26,
   "metadata": {},
   "outputs": [
    {
     "data": {
      "image/png": "[encoded data removed]",
      "text/plain": [
       "<Figure size 1500x300 with 5 Axes>"
      ]
     },
     "metadata": {},
     "output_type": "display_data"
    }
   ],
   "source": [
    "visualize_poisoned_examples(steganographic_trainset)"
   ]
  },
  {
   "cell_type": "code",
   "execution_count": 27,
   "metadata": {},
   "outputs": [
    {
     "data": {
      "application/vnd.jupyter.widget-view+json": {
       "model_id": "18267dd673f8481792146e993ae080d9",
       "version_major": 2,
       "version_minor": 0
      },
      "text/plain": [
       "Epoch 1/3:   0%|          | 0/1875 [00:00<?, ?batch/s]"
      ]
     },
     "metadata": {},
     "output_type": "display_data"
    },
    {
     "data": {
      "application/vnd.jupyter.widget-view+json": {
       "model_id": "74db4cc922db4c55a40ae84f456fe2cf",
       "version_major": 2,
       "version_minor": 0
      },
      "text/plain": [
       "Testing:   0%|          | 0/313 [00:00<?, ?it/s]"
      ]
     },
     "metadata": {},
     "output_type": "display_data"
    },
    {
     "name": "stdout",
     "output_type": "stream",
     "text": [
      "\n",
      "Test set: Average loss: 0.0084, Accuracy: 9191/10000 (92%)\n",
      "\n"
     ]
    },
    {
     "data": {
      "application/vnd.jupyter.widget-view+json": {
       "model_id": "fe7bbbdfac2c4556b4d5b1d64a38a111",
       "version_major": 2,
       "version_minor": 0
      },
      "text/plain": [
       "Epoch 2/3:   0%|          | 0/1875 [00:00<?, ?batch/s]"
      ]
     },
     "metadata": {},
     "output_type": "display_data"
    },
    {
     "data": {
      "application/vnd.jupyter.widget-view+json": {
       "model_id": "7ea9a2ec1a3d4b31aca7a043a2bdf7eb",
       "version_major": 2,
       "version_minor": 0
      },
      "text/plain": [
       "Testing:   0%|          | 0/313 [00:00<?, ?it/s]"
      ]
     },
     "metadata": {},
     "output_type": "display_data"
    },
    {
     "name": "stdout",
     "output_type": "stream",
     "text": [
      "\n",
      "Test set: Average loss: 0.0103, Accuracy: 8688/10000 (87%)\n",
      "\n"
     ]
    },
    {
     "data": {
      "application/vnd.jupyter.widget-view+json": {
       "model_id": "adafeea59849407c9428361ed8573492",
       "version_major": 2,
       "version_minor": 0
      },
      "text/plain": [
       "Epoch 3/3:   0%|          | 0/1875 [00:00<?, ?batch/s]"
      ]
     },
     "metadata": {},
     "output_type": "display_data"
    },
    {
     "data": {
      "application/vnd.jupyter.widget-view+json": {
       "model_id": "9e76443a86e74feba72a60dbbcdb943b",
       "version_major": 2,
       "version_minor": 0
      },
      "text/plain": [
       "Testing:   0%|          | 0/313 [00:00<?, ?it/s]"
      ]
     },
     "metadata": {},
     "output_type": "display_data"
    },
    {
     "name": "stdout",
     "output_type": "stream",
     "text": [
      "\n",
      "Test set: Average loss: 0.0031, Accuracy: 9694/10000 (97%)\n",
      "\n"
     ]
    }
   ],
   "source": [
    "invisible_backdoor_mnist_net = MnistNet().to(device)\n",
    "train_mnist(invisible_backdoor_mnist_net, steganographic_trainset, steganographic_testset, epochs=3)"
   ]
  },
  {
   "cell_type": "code",
   "execution_count": 28,
   "metadata": {},
   "outputs": [
    {
     "name": "stdout",
     "output_type": "stream",
     "text": [
      "Backdoor Attack Success Rate: 91.07142857142857%\n",
      "Correct: 459, Total: 504\n"
     ]
    }
   ],
   "source": [
    "evaluate_backdoor_success_rate(invisible_backdoor_mnist_net, steganographic_testset)"
   ]
  },
  {
   "cell_type": "code",
   "execution_count": 29,
   "metadata": {},
   "outputs": [
    {
     "name": "stdout",
     "output_type": "stream",
     "text": [
      "Average Difference per pixel between Poisoned and Unpoisoned Images: 9.503801993560046e-05\n"
     ]
    }
   ],
   "source": [
    "average_difference = compute_average_poisoned_image_difference(steganographic_trainset)\n",
    "print(f\"Average Difference per pixel between Poisoned and Unpoisoned Images: {average_difference}\")"
   ]
  },
  {
   "cell_type": "markdown",
   "metadata": {},
   "source": [
    "# Attack 3: Model Inversion Attack\n",
    "\n",
    "The third attack will be a model inversion attack. We will use the model to generate an image that maximizes the probability of a specific target class. We will reconstruct images of the numbers 0 to 4 from the model."
   ]
  },
  {
   "cell_type": "code",
   "execution_count": 30,
   "metadata": {},
   "outputs": [
    {
     "data": {
      "application/vnd.jupyter.widget-view+json": {
       "model_id": "015c23f507bc430796fad17aeef38c65",
       "version_major": 2,
       "version_minor": 0
      },
      "text/plain": [
       "Epoch 1/2:   0%|          | 0/1875 [00:00<?, ?batch/s]"
      ]
     },
     "metadata": {},
     "output_type": "display_data"
    },
    {
     "data": {
      "application/vnd.jupyter.widget-view+json": {
       "model_id": "cae4034b518942f5a180b11e59709612",
       "version_major": 2,
       "version_minor": 0
      },
      "text/plain": [
       "Testing:   0%|          | 0/313 [00:00<?, ?it/s]"
      ]
     },
     "metadata": {},
     "output_type": "display_data"
    },
    {
     "name": "stdout",
     "output_type": "stream",
     "text": [
      "\n",
      "Test set: Average loss: 0.0032, Accuracy: 9658/10000 (97%)\n",
      "\n"
     ]
    },
    {
     "data": {
      "application/vnd.jupyter.widget-view+json": {
       "model_id": "cf038bcc7aa7463b8abc27ec339678a2",
       "version_major": 2,
       "version_minor": 0
      },
      "text/plain": [
       "Epoch 2/2:   0%|          | 0/1875 [00:00<?, ?batch/s]"
      ]
     },
     "metadata": {},
     "output_type": "display_data"
    },
    {
     "data": {
      "application/vnd.jupyter.widget-view+json": {
       "model_id": "3291c91c0b4446088b474ce95d2a8d38",
       "version_major": 2,
       "version_minor": 0
      },
      "text/plain": [
       "Testing:   0%|          | 0/313 [00:00<?, ?it/s]"
      ]
     },
     "metadata": {},
     "output_type": "display_data"
    },
    {
     "name": "stdout",
     "output_type": "stream",
     "text": [
      "\n",
      "Test set: Average loss: 0.0028, Accuracy: 9743/10000 (97%)\n",
      "\n"
     ]
    }
   ],
   "source": [
    "# First train the model on the original MNIST dataset\n",
    "\n",
    "model_inversion_mnist_net = MnistNet().to(device)\n",
    "train_mnist(model_inversion_mnist_net, trainset, testset)"
   ]
  },
  {
   "cell_type": "code",
   "execution_count": 31,
   "metadata": {},
   "outputs": [],
   "source": [
    "# Function to perform model inversion attack\n",
    "def model_inversion_attack(model, target_label, lr=0.1, iterations=1000):\n",
    "    criterion = torch.nn.CrossEntropyLoss()\n",
    "    \n",
    "    # Start with a random image\n",
    "    reconstructed_img = torch.randn((1, 1, 28, 28), requires_grad=True, device='cuda')\n",
    "\n",
    "    # Set the target label\n",
    "    target_label = torch.tensor([target_label], device='cuda')\n",
    "\n",
    "    # Use an optimizer to optimize the input image\n",
    "    optimizer = optim.Adam([reconstructed_img], lr=lr)\n",
    "\n",
    "    model.eval()\n",
    "    \n",
    "    loss_history = []\n",
    "\n",
    "    for i in range(iterations):\n",
    "        optimizer.zero_grad()\n",
    "        outputs = model(reconstructed_img)\n",
    "        loss = criterion(outputs, target_label)\n",
    "        loss.backward()\n",
    "        optimizer.step()\n",
    "        \n",
    "        loss_history.append(loss.item())\n",
    "\n",
    "    return reconstructed_img.detach().cpu().squeeze().numpy(), loss_history"
   ]
  },
  {
   "cell_type": "code",
   "execution_count": 32,
   "metadata": {},
   "outputs": [
    {
     "data": {
      "application/vnd.jupyter.widget-view+json": {
       "model_id": "c05ce93750b543a4af487cece42b16d5",
       "version_major": 2,
       "version_minor": 0
      },
      "text/plain": [
       "Model Inversion Attack:   0%|          | 0/5 [00:00<?, ?label/s]"
      ]
     },
     "metadata": {},
     "output_type": "display_data"
    },
    {
     "data": {
      "application/vnd.jupyter.widget-view+json": {
       "model_id": "955744ae31334511b765c852fe8198a7",
       "version_major": 2,
       "version_minor": 0
      },
      "text/plain": [
       "Label 0:   0%|          | 0/5 [00:00<?, ?image/s]"
      ]
     },
     "metadata": {},
     "output_type": "display_data"
    },
    {
     "data": {
      "application/vnd.jupyter.widget-view+json": {
       "model_id": "ca80056954b14532a8d24f47a964b45e",
       "version_major": 2,
       "version_minor": 0
      },
      "text/plain": [
       "Label 1:   0%|          | 0/5 [00:00<?, ?image/s]"
      ]
     },
     "metadata": {},
     "output_type": "display_data"
    },
    {
     "data": {
      "application/vnd.jupyter.widget-view+json": {
       "model_id": "995305e996c94ddabe3ad28cdddfe076",
       "version_major": 2,
       "version_minor": 0
      },
      "text/plain": [
       "Label 2:   0%|          | 0/5 [00:00<?, ?image/s]"
      ]
     },
     "metadata": {},
     "output_type": "display_data"
    },
    {
     "data": {
      "application/vnd.jupyter.widget-view+json": {
       "model_id": "7d6b599ef8504494af247f470bd0ce75",
       "version_major": 2,
       "version_minor": 0
      },
      "text/plain": [
       "Label 3:   0%|          | 0/5 [00:00<?, ?image/s]"
      ]
     },
     "metadata": {},
     "output_type": "display_data"
    },
    {
     "data": {
      "application/vnd.jupyter.widget-view+json": {
       "model_id": "72abd5864858400a871a6b9151bc72d1",
       "version_major": 2,
       "version_minor": 0
      },
      "text/plain": [
       "Label 4:   0%|          | 0/5 [00:00<?, ?image/s]"
      ]
     },
     "metadata": {},
     "output_type": "display_data"
    }
   ],
   "source": [
    "# Perform model inversion attack for the specified labels\n",
    "target_labels = [0, 1, 2, 3, 4]\n",
    "images_per_label = 5\n",
    "reconstructed_imgs = {}\n",
    "\n",
    "target_progress = tqdm(target_labels, desc='Model Inversion Attack', unit='label')\n",
    "for target_label in target_progress:\n",
    "    if target_label not in reconstructed_imgs:\n",
    "        reconstructed_imgs[target_label] = []\n",
    "        \n",
    "    sub_progress = tqdm(range(images_per_label), desc=f'Label {target_label}', unit='image', leave=False)\n",
    "    for _ in sub_progress:\n",
    "        reconstructed_img, loss_history = model_inversion_attack(model_inversion_mnist_net, target_label)\n",
    "        reconstructed_imgs[target_label].append(reconstructed_img)\n",
    "        \n",
    "        sub_progress.set_postfix({'loss': loss_history[-1]})"
   ]
  },
  {
   "cell_type": "code",
   "execution_count": 33,
   "metadata": {},
   "outputs": [],
   "source": [
    "# put the reconstructed images into the model to see if it is classified as the target label\n",
    "def evaluate_model_inversion_attack(model, reconstructed_imgs, target_labels):\n",
    "    model.eval()\n",
    "    correct = 0\n",
    "    total = 0\n",
    "    with torch.no_grad():\n",
    "        for target_label in target_labels:\n",
    "            for img in reconstructed_imgs[target_label]:\n",
    "                img_tensor = torch.tensor(img, device='cuda').unsqueeze(0)\n",
    "                outputs = model(img_tensor)\n",
    "                _, predicted = torch.max(outputs.data, 1)\n",
    "                total += 1\n",
    "                if predicted.item() == target_label:\n",
    "                    correct += 1\n",
    "\n",
    "    print(f\"Model Inversion Attack Success Rate: {100 * correct / total}%\")\n",
    "    print(f\"Correct: {correct}, Total: {total}\")"
   ]
  },
  {
   "cell_type": "code",
   "execution_count": 34,
   "metadata": {},
   "outputs": [
    {
     "name": "stdout",
     "output_type": "stream",
     "text": [
      "Model Inversion Attack Success Rate: 100.0%\n",
      "Correct: 25, Total: 25\n"
     ]
    }
   ],
   "source": [
    "evaluate_model_inversion_attack(model_inversion_mnist_net, reconstructed_imgs, target_labels)"
   ]
  },
  {
   "cell_type": "code",
   "execution_count": 35,
   "metadata": {},
   "outputs": [
    {
     "data": {
      "image/png": "[encoded data removed]",
      "text/plain": [
       "<Figure size 1500x1500 with 5 Axes>"
      ]
     },
     "metadata": {},
     "output_type": "display_data"
    }
   ],
   "source": [
    "# visualize the first reconstructed image for each target label\n",
    "fig, axes = plt.subplots(len(target_labels), 1, figsize=(15, 15))\n",
    "for i, target_label in enumerate(target_labels):\n",
    "    axes[i].imshow(reconstructed_imgs[target_label][0], cmap='gray')\n",
    "    axes[i].set_title(f'Target Label: {target_label}')\n",
    "    axes[i].axis('off')\n",
    "    \n",
    "plt.show()\n"
   ]
  },
  {
   "cell_type": "code",
   "execution_count": 36,
   "metadata": {},
   "outputs": [],
   "source": [
    "# Compute the average difference between these reconstructed images and some random images with the same label\n",
    "def compute_average_difference(reconstructed_imgs, target_label, mnist_dataset, num_examples=5):\n",
    "    total_difference = 0.0\n",
    "    count = 0\n",
    "\n",
    "    targets = np.array(mnist_dataset.targets)\n",
    "    label_indices = np.where(targets == target_label)[0]\n",
    "    random_indices = random.sample(list(label_indices), num_examples)\n",
    "\n",
    "    for idx in random_indices:\n",
    "        img, _ = mnist_dataset[idx]\n",
    "        img = img.squeeze().numpy()\n",
    "        for reconstructed_img in reconstructed_imgs[target_label]:\n",
    "            difference = np.abs(img - reconstructed_img).mean()\n",
    "            total_difference += difference\n",
    "            count += 1\n",
    "\n",
    "    if count > 0:\n",
    "        average_difference = total_difference / count\n",
    "    else:\n",
    "        average_difference = 0.0\n",
    "\n",
    "    return average_difference"
   ]
  },
  {
   "cell_type": "code",
   "execution_count": 37,
   "metadata": {},
   "outputs": [
    {
     "name": "stdout",
     "output_type": "stream",
     "text": [
      "Average Difference for Target Label 0: 0.937568120956421\n",
      "Average Difference for Target Label 1: 0.9206660866737366\n",
      "Average Difference for Target Label 2: 0.9574118685722351\n",
      "Average Difference for Target Label 3: 0.9367159295082093\n",
      "Average Difference for Target Label 4: 0.9559020876884461\n"
     ]
    }
   ],
   "source": [
    "# Compute the average difference for each target label\n",
    "average_differences = {}\n",
    "for target_label in target_labels:\n",
    "    average_difference = compute_average_difference(reconstructed_imgs, target_label, testset)\n",
    "    average_differences[target_label] = average_difference\n",
    "    \n",
    "    print(f\"Average Difference for Target Label {target_label}: {average_difference}\")"
   ]
  },
  {
   "cell_type": "markdown",
   "metadata": {},
   "source": [
    "(b) (5 Pts.)\n",
    "\n",
    "Use the FashionMNIST [2] data set and a deep model. Create a universal attack,\n",
    "which works for multiple different inputs. Describe how you approach this, and evaluate the\n",
    "performance (success rate). (3 pts) Evaluate whether the universal attack also transfers to other\n",
    "deep learning architectures. (1 pts) Can you also create a universal attack which is hard to detect\n",
    "visually? (1 pts)"
   ]
  },
  {
   "cell_type": "code",
   "execution_count": 3,
   "metadata": {},
   "outputs": [
    {
     "name": "stdout",
     "output_type": "stream",
     "text": [
      "Downloading http://fashion-mnist.s3-website.eu-central-1.amazonaws.com/train-images-idx3-ubyte.gz\n",
      "Downloading http://fashion-mnist.s3-website.eu-central-1.amazonaws.com/train-images-idx3-ubyte.gz to data\\FashionMNIST\\raw\\train-images-idx3-ubyte.gz\n"
     ]
    },
    {
     "name": "stderr",
     "output_type": "stream",
     "text": [
      "100%|██████████| 26421880/26421880 [00:01<00:00, 16649136.41it/s]\n"
     ]
    },
    {
     "name": "stdout",
     "output_type": "stream",
     "text": [
      "Extracting data\\FashionMNIST\\raw\\train-images-idx3-ubyte.gz to data\\FashionMNIST\\raw\n",
      "\n",
      "Downloading http://fashion-mnist.s3-website.eu-central-1.amazonaws.com/train-labels-idx1-ubyte.gz\n",
      "Downloading http://fashion-mnist.s3-website.eu-central-1.amazonaws.com/train-labels-idx1-ubyte.gz to data\\FashionMNIST\\raw\\train-labels-idx1-ubyte.gz\n"
     ]
    },
    {
     "name": "stderr",
     "output_type": "stream",
     "text": [
      "100%|██████████| 29515/29515 [00:00<00:00, 2459615.00it/s]\n"
     ]
    },
    {
     "name": "stdout",
     "output_type": "stream",
     "text": [
      "Extracting data\\FashionMNIST\\raw\\train-labels-idx1-ubyte.gz to data\\FashionMNIST\\raw\n",
      "\n",
      "Downloading http://fashion-mnist.s3-website.eu-central-1.amazonaws.com/t10k-images-idx3-ubyte.gz\n",
      "Downloading http://fashion-mnist.s3-website.eu-central-1.amazonaws.com/t10k-images-idx3-ubyte.gz to data\\FashionMNIST\\raw\\t10k-images-idx3-ubyte.gz\n"
     ]
    },
    {
     "name": "stderr",
     "output_type": "stream",
     "text": [
      "100%|██████████| 4422102/4422102 [00:00<00:00, 7329898.09it/s]\n"
     ]
    },
    {
     "name": "stdout",
     "output_type": "stream",
     "text": [
      "Extracting data\\FashionMNIST\\raw\\t10k-images-idx3-ubyte.gz to data\\FashionMNIST\\raw\n",
      "\n",
      "Downloading http://fashion-mnist.s3-website.eu-central-1.amazonaws.com/t10k-labels-idx1-ubyte.gz\n",
      "Downloading http://fashion-mnist.s3-website.eu-central-1.amazonaws.com/t10k-labels-idx1-ubyte.gz to data\\FashionMNIST\\raw\\t10k-labels-idx1-ubyte.gz\n"
     ]
    },
    {
     "name": "stderr",
     "output_type": "stream",
     "text": [
      "100%|██████████| 5148/5148 [00:00<?, ?it/s]"
     ]
    },
    {
     "name": "stdout",
     "output_type": "stream",
     "text": [
      "Extracting data\\FashionMNIST\\raw\\t10k-labels-idx1-ubyte.gz to data\\FashionMNIST\\raw\n",
      "\n"
     ]
    },
    {
     "name": "stderr",
     "output_type": "stream",
     "text": [
      "\n"
     ]
    }
   ],
   "source": [
    "# load the fashion mnist dataset\n",
    "def load_fashion_mnist():\n",
    "    #download the fashion mnist dataset\n",
    "    trainset = datasets.FashionMNIST('data', download=True, train=True, transform=transforms.ToTensor())\n",
    "    testset = datasets.FashionMNIST('data', download=True, train=False, transform=transforms.ToTensor())\n",
    "    return trainset, testset\n",
    "\n",
    "fashion_trainset, fashion_testset = load_fashion_mnist()"
   ]
  },
  {
   "cell_type": "code",
   "execution_count": 7,
   "metadata": {},
   "outputs": [],
   "source": [
    "class FashionMnistNet(nn.Module):\n",
    "    def __init__(self):\n",
    "        super(FashionMnistNet, self).__init__()\n",
    "        self.conv1 = nn.Conv2d(1, 32, kernel_size=3, stride=1, padding=1)\n",
    "        self.conv2 = nn.Conv2d(32, 64, kernel_size=3, stride=1, padding=1)\n",
    "        self.fc1 = nn.Linear(64 * 7 * 7, 128)\n",
    "        self.fc2 = nn.Linear(128, 10)\n",
    "        self.pool = nn.MaxPool2d(kernel_size=2, stride=2, padding=0)\n",
    "        self.relu = nn.ReLU()\n",
    "\n",
    "    def forward(self, x):\n",
    "        x = self.pool(self.relu(self.conv1(x)))\n",
    "        x = self.pool(self.relu(self.conv2(x)))\n",
    "        x = x.view(-1, 64 * 7 * 7)\n",
    "        x = self.relu(self.fc1(x))\n",
    "        x = self.fc2(x)\n",
    "        return x"
   ]
  },
  {
   "cell_type": "code",
   "execution_count": 13,
   "metadata": {},
   "outputs": [
    {
     "data": {
      "application/vnd.jupyter.widget-view+json": {
       "model_id": "a886ef9ff0354e879c1c71a40fc590f1",
       "version_major": 2,
       "version_minor": 0
      },
      "text/plain": [
       "Epoch 1/5:   0%|          | 0/1875 [00:00<?, ?batch/s]"
      ]
     },
     "metadata": {},
     "output_type": "display_data"
    },
    {
     "data": {
      "application/vnd.jupyter.widget-view+json": {
       "model_id": "22ca768ec7da4072abfd2d1186dbcc77",
       "version_major": 2,
       "version_minor": 0
      },
      "text/plain": [
       "Testing:   0%|          | 0/313 [00:00<?, ?it/s]"
      ]
     },
     "metadata": {},
     "output_type": "display_data"
    },
    {
     "name": "stdout",
     "output_type": "stream",
     "text": [
      "\n",
      "Test set: Average loss: 0.0098, Accuracy: 8885/10000 (89%)\n",
      "\n"
     ]
    },
    {
     "data": {
      "application/vnd.jupyter.widget-view+json": {
       "model_id": "8ffa8af57a4a4c95af2dae8a93a6cd2e",
       "version_major": 2,
       "version_minor": 0
      },
      "text/plain": [
       "Epoch 2/5:   0%|          | 0/1875 [00:00<?, ?batch/s]"
      ]
     },
     "metadata": {},
     "output_type": "display_data"
    },
    {
     "data": {
      "application/vnd.jupyter.widget-view+json": {
       "model_id": "7055f565aecd4b2aa98456f2a03058b6",
       "version_major": 2,
       "version_minor": 0
      },
      "text/plain": [
       "Testing:   0%|          | 0/313 [00:00<?, ?it/s]"
      ]
     },
     "metadata": {},
     "output_type": "display_data"
    },
    {
     "name": "stdout",
     "output_type": "stream",
     "text": [
      "\n",
      "Test set: Average loss: 0.0082, Accuracy: 9049/10000 (90%)\n",
      "\n"
     ]
    },
    {
     "data": {
      "application/vnd.jupyter.widget-view+json": {
       "model_id": "e453a832b53148ecabe6926d1c3df2aa",
       "version_major": 2,
       "version_minor": 0
      },
      "text/plain": [
       "Epoch 3/5:   0%|          | 0/1875 [00:00<?, ?batch/s]"
      ]
     },
     "metadata": {},
     "output_type": "display_data"
    },
    {
     "data": {
      "application/vnd.jupyter.widget-view+json": {
       "model_id": "b31f7e348c1b4f37a238cbd1e2687f40",
       "version_major": 2,
       "version_minor": 0
      },
      "text/plain": [
       "Testing:   0%|          | 0/313 [00:00<?, ?it/s]"
      ]
     },
     "metadata": {},
     "output_type": "display_data"
    },
    {
     "name": "stdout",
     "output_type": "stream",
     "text": [
      "\n",
      "Test set: Average loss: 0.0098, Accuracy: 8870/10000 (89%)\n",
      "\n"
     ]
    },
    {
     "data": {
      "application/vnd.jupyter.widget-view+json": {
       "model_id": "6c746d0a65594cbba1aa79014ee11234",
       "version_major": 2,
       "version_minor": 0
      },
      "text/plain": [
       "Epoch 4/5:   0%|          | 0/1875 [00:00<?, ?batch/s]"
      ]
     },
     "metadata": {},
     "output_type": "display_data"
    },
    {
     "data": {
      "application/vnd.jupyter.widget-view+json": {
       "model_id": "6ab51853879748499153fea1ec668e6f",
       "version_major": 2,
       "version_minor": 0
      },
      "text/plain": [
       "Testing:   0%|          | 0/313 [00:00<?, ?it/s]"
      ]
     },
     "metadata": {},
     "output_type": "display_data"
    },
    {
     "name": "stdout",
     "output_type": "stream",
     "text": [
      "\n",
      "Test set: Average loss: 0.0075, Accuracy: 9116/10000 (91%)\n",
      "\n"
     ]
    },
    {
     "data": {
      "application/vnd.jupyter.widget-view+json": {
       "model_id": "e5445631dfd8415ba652f9f71f68e6b9",
       "version_major": 2,
       "version_minor": 0
      },
      "text/plain": [
       "Epoch 5/5:   0%|          | 0/1875 [00:00<?, ?batch/s]"
      ]
     },
     "metadata": {},
     "output_type": "display_data"
    },
    {
     "data": {
      "application/vnd.jupyter.widget-view+json": {
       "model_id": "b19f1641707742a096d9ec8766628e6f",
       "version_major": 2,
       "version_minor": 0
      },
      "text/plain": [
       "Testing:   0%|          | 0/313 [00:00<?, ?it/s]"
      ]
     },
     "metadata": {},
     "output_type": "display_data"
    },
    {
     "name": "stdout",
     "output_type": "stream",
     "text": [
      "\n",
      "Test set: Average loss: 0.0074, Accuracy: 9151/10000 (92%)\n",
      "\n"
     ]
    }
   ],
   "source": [
    "fashion_net = FashionMnistNet().to(device)\n",
    "train_mnist(fashion_net, fashion_trainset, fashion_testset, epochs=5)"
   ]
  },
  {
   "cell_type": "code",
   "execution_count": 26,
   "metadata": {},
   "outputs": [],
   "source": [
    "def create_universal_perturbation(model, data_loader, delta=0.2, max_iter=10):\n",
    "    model.eval()\n",
    "    v = torch.zeros((1, 1, 28, 28), device=device, requires_grad=True)\n",
    "    delta_tensor = torch.tensor(delta, device=device)\n",
    "    criterion = nn.CrossEntropyLoss()\n",
    "    \n",
    "    for _ in tqdm(range(max_iter), desc='Creating Universal Perturbation', unit='iteration'):\n",
    "        for images, labels in data_loader:\n",
    "            images, labels = images.to(device), labels.to(device)\n",
    "            images += v\n",
    "            images = torch.clamp(images, 0, 1)\n",
    "            \n",
    "            outputs = model(images)\n",
    "            loss = criterion(outputs, labels)\n",
    "            model.zero_grad()\n",
    "            loss.backward()\n",
    "            \n",
    "            # Add the gradient of the loss with respect to the input to the perturbation\n",
    "            # This will increase the loss of the model for the input image\n",
    "            v = v + delta_tensor * v.grad.sign()\n",
    "            v = torch.clamp(v, -delta, delta)\n",
    "            \n",
    "            v = v.detach().requires_grad_()\n",
    "    \n",
    "    return v\n",
    "\n"
   ]
  },
  {
   "cell_type": "code",
   "execution_count": 27,
   "metadata": {},
   "outputs": [
    {
     "data": {
      "application/vnd.jupyter.widget-view+json": {
       "model_id": "551c57c77474473299b9ece03efaf039",
       "version_major": 2,
       "version_minor": 0
      },
      "text/plain": [
       "Creating Universal Perturbation:   0%|          | 0/10 [00:00<?, ?iteration/s]"
      ]
     },
     "metadata": {},
     "output_type": "display_data"
    }
   ],
   "source": [
    "fashion_mnist_train_loader = DataLoader(fashion_trainset, batch_size=32, shuffle=True)\n",
    "fashion_mnist_test_loader = DataLoader(fashion_testset, batch_size=32, shuffle=False)\n",
    "\n",
    "universal_perturbation = create_universal_perturbation(fashion_net, fashion_mnist_train_loader)"
   ]
  },
  {
   "cell_type": "code",
   "execution_count": 36,
   "metadata": {},
   "outputs": [
    {
     "data": {
      "image/png": "[encoded data removed]",
      "text/plain": [
       "<Figure size 1500x500 with 3 Axes>"
      ]
     },
     "metadata": {},
     "output_type": "display_data"
    }
   ],
   "source": [
    "#Plot the universal perturbation as an image, a normal image with a label and the image with the perturbation\n",
    "def visualize_perturbation(universal_perturbation, img, label):\n",
    "    fig, axes = plt.subplots(1, 3, figsize=(15, 5))\n",
    "    \n",
    "    img_tensor = img.clone().detach().squeeze()\n",
    "    img_tensor += universal_perturbation.squeeze()\n",
    "    img_tensor = torch.clamp(img_tensor, 0, 1)\n",
    "    \n",
    "    axes[0].imshow(universal_perturbation.detach().squeeze().cpu().numpy(), cmap='gray')\n",
    "    axes[0].set_title('Universal Perturbation')\n",
    "    axes[0].axis('off')\n",
    "    \n",
    "    axes[1].imshow(img.detach().squeeze().cpu().numpy(), cmap='gray')\n",
    "    axes[1].set_title(f'Original Image (Label: {label})')\n",
    "    axes[1].axis('off')\n",
    "    \n",
    "    axes[2].imshow(img_tensor.detach().cpu().numpy(), cmap='gray')\n",
    "    axes[2].set_title('Perturbed Image')\n",
    "    axes[2].axis('off')\n",
    "    \n",
    "    plt.show()\n",
    "    \n",
    "# Visualize the universal perturbation for the first image in the test set\n",
    "img, label = fashion_testset[0]\n",
    "visualize_perturbation(universal_perturbation, img.unsqueeze(0).to(device), label)"
   ]
  },
  {
   "cell_type": "code",
   "execution_count": 28,
   "metadata": {},
   "outputs": [
    {
     "name": "stdout",
     "output_type": "stream",
     "text": [
      "Success rate of the universal perturbation: 89.46%\n"
     ]
    }
   ],
   "source": [
    "def evaluate_perturbation(model, data_loader, perturbation):\n",
    "    model.eval()\n",
    "    total = 0\n",
    "    incorrect = 0\n",
    "\n",
    "    for images, labels in data_loader:\n",
    "        images = images.to(next(model.parameters()).device)\n",
    "        labels = labels.to(next(model.parameters()).device)\n",
    "        adv_images = images + perturbation\n",
    "        outputs = model(adv_images)\n",
    "        _, predicted = torch.max(outputs, 1)\n",
    "        total += labels.size(0)\n",
    "        incorrect += (predicted != labels).sum().item()\n",
    "\n",
    "    return incorrect / total\n",
    "\n",
    "success_rate = evaluate_perturbation(fashion_net, fashion_mnist_test_loader, universal_perturbation)\n",
    "print(f\"Success rate of the universal perturbation: {success_rate * 100:.2f}%\")"
   ]
  },
  {
   "cell_type": "code",
   "execution_count": 38,
   "metadata": {},
   "outputs": [],
   "source": [
    "def create_invisible_universal_perturbation(model, data_loader, delta=0.05, max_iter=10, reg_factor=0.1):\n",
    "    model.eval()\n",
    "    v = torch.zeros((1, 1, 28, 28), device=device, requires_grad=True)\n",
    "    delta_tensor = torch.tensor(delta, device=device)\n",
    "    criterion = nn.CrossEntropyLoss()\n",
    "    \n",
    "    for _ in tqdm(range(max_iter), desc='Creating Invisible Universal Perturbation', unit='iteration'):\n",
    "        for images, labels in data_loader:\n",
    "            images, labels = images.to(device), labels.to(device)\n",
    "            adv_images = images + v\n",
    "            adv_images = torch.clamp(adv_images, 0, 1)\n",
    "            \n",
    "            outputs = model(adv_images)\n",
    "            # Add a regularization term to the loss to encourage small perturbations\n",
    "            loss = criterion(outputs, labels) + reg_factor * torch.norm(v)\n",
    "            model.zero_grad()\n",
    "            loss.backward()\n",
    "            \n",
    "            v = v + delta_tensor * v.grad.sign()\n",
    "            v = torch.clamp(v, -delta, delta)\n",
    "            \n",
    "            v = v.detach().requires_grad_()\n",
    "    \n",
    "    return v"
   ]
  },
  {
   "cell_type": "code",
   "execution_count": 39,
   "metadata": {},
   "outputs": [
    {
     "data": {
      "application/vnd.jupyter.widget-view+json": {
       "model_id": "d00bd4bf5d4944a2bf8bf04c041d5ebc",
       "version_major": 2,
       "version_minor": 0
      },
      "text/plain": [
       "Creating Invisible Universal Perturbation:   0%|          | 0/10 [00:00<?, ?iteration/s]"
      ]
     },
     "metadata": {},
     "output_type": "display_data"
    }
   ],
   "source": [
    "# Create invisible universal perturbation\n",
    "invisible_universal_perturbation = create_invisible_universal_perturbation(fashion_net, fashion_mnist_train_loader)"
   ]
  },
  {
   "cell_type": "code",
   "execution_count": 40,
   "metadata": {},
   "outputs": [
    {
     "data": {
      "image/png": "[encoded data removed]",
      "text/plain": [
       "<Figure size 1500x500 with 3 Axes>"
      ]
     },
     "metadata": {},
     "output_type": "display_data"
    }
   ],
   "source": [
    "#visualize the invisible universal perturbation\n",
    "img, label = fashion_testset[0]\n",
    "visualize_perturbation(invisible_universal_perturbation, img.unsqueeze(0).to(device), label)"
   ]
  },
  {
   "cell_type": "code",
   "execution_count": 43,
   "metadata": {},
   "outputs": [
    {
     "name": "stdout",
     "output_type": "stream",
     "text": [
      "Success rate of the invisible universal perturbation: 89.46%\n"
     ]
    }
   ],
   "source": [
    "# Evaluate the invisible universal perturbation\n",
    "invisible_success_rate = evaluate_perturbation(fashion_net, fashion_mnist_test_loader, invisible_universal_perturbation)\n",
    "print(f\"Success rate of the invisible universal perturbation: {success_rate * 100:.2f}%\")"
   ]
  },
  {
   "cell_type": "markdown",
   "metadata": {},
   "source": [
    "### Evaluate whether the universal attack also transfers to other deep learning architectures.\n",
    " \n",
    "This universal attack can be applied to many different deep learning architectures. The attack generates a pertubation that is added to the input image on order to make the model misclassify the label. Since the pertubation is generated using backpropagation, it can be applied to any model that uses the same input and output format.\n"
   ]
  },
  {
   "cell_type": "markdown",
   "metadata": {},
   "source": [
    "### Can you also create a universal attack which is hard to detect visually?\n",
    "\n",
    "Yes"
   ]
  }
 ],
 "metadata": {
  "kernelspec": {
   "display_name": "deeplearning",
   "language": "python",
   "name": "python3"
  },
  "language_info": {
   "codemirror_mode": {
    "name": "ipython",
    "version": 3
   },
   "file_extension": ".py",
   "mimetype": "text/x-python",
   "name": "python",
   "nbconvert_exporter": "python",
   "pygments_lexer": "ipython3",
   "version": "3.12.3"
  }
 },
 "nbformat": 4,
 "nbformat_minor": 2
}
