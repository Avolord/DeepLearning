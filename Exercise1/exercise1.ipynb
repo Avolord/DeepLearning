{
 "cells": [
  {
   "cell_type": "code",
   "execution_count": 7,
   "metadata": {},
   "outputs": [],
   "source": [
    "import torch\n",
    "import torchvision\n",
    "from torchvision.transforms import transforms"
   ]
  },
  {
   "cell_type": "code",
   "execution_count": 15,
   "metadata": {},
   "outputs": [],
   "source": [
    "# Load the dataset\n",
    "train_dataset = torchvision.datasets.FashionMNIST('./data', train=True, download=True, transform=transforms.ToTensor())\n",
    "test_dataset = torchvision.datasets.FashionMNIST('./data', train=False, download=True, transform=transforms.ToTensor())"
   ]
  },
  {
   "cell_type": "code",
   "execution_count": 16,
   "metadata": {},
   "outputs": [],
   "source": [
    "from torch.utils.data import DataLoader\n",
    "\n",
    "train_dataloader = DataLoader(train_dataset, batch_size=64, shuffle=True)\n",
    "test_dataloader = DataLoader(test_dataset, batch_size=64, shuffle=True)"
   ]
  },
  {
   "cell_type": "code",
   "execution_count": 35,
   "metadata": {},
   "outputs": [],
   "source": [
    "import torch\n",
    "#define a suitable architecture for classifying the fashion mnist dataset\n",
    "import torch.nn as nn\n",
    "\n",
    "class FashionMNISTClassifier(nn.Module):\n",
    "    def get_activation_function(self, activation_function: str):\n",
    "        if activation_function == 'relu':\n",
    "            return nn.ReLU()\n",
    "        elif activation_function == 'selu':\n",
    "            return nn.SELU()\n",
    "        elif activation_function == 'sigmoid':\n",
    "            return nn.Sigmoid()\n",
    "\n",
    "    def __init__(self, activation_function: str):\n",
    "        super(FashionMNISTClassifier, self).__init__()\n",
    "        \n",
    "        self.conv_stack = nn.Sequential(\n",
    "            nn.Conv2d(1, 16, kernel_size=3, stride=1, padding=1),\n",
    "            self.get_activation_function(activation_function),\n",
    "            nn.MaxPool2d(kernel_size=2, stride=2),\n",
    "            nn.Conv2d(16, 32, kernel_size=3, stride=1, padding=1),\n",
    "            self.get_activation_function(activation_function),\n",
    "            nn.MaxPool2d(kernel_size=2, stride=2)\n",
    "        )\n",
    "\n",
    "        self.linear_stack = nn.Sequential(\n",
    "            nn.Linear(7*7*32, 128),\n",
    "            self.get_activation_function(activation_function),\n",
    "            nn.Linear(128, 10)\n",
    "        )\n",
    "\n",
    "        \n",
    "        \n",
    "    def forward(self, x):\n",
    "        x = self.conv_stack(x)\n",
    "        x = x.view(x.size(0), -1)\n",
    "        x = self.linear_stack(x)\n",
    "        \n",
    "        return x\n"
   ]
  },
  {
   "cell_type": "code",
   "execution_count": 36,
   "metadata": {},
   "outputs": [],
   "source": [
    "import torch.optim as optim\n",
    "import torch.nn as nn\n",
    "\n",
    "def train_model(model, optimizer_type, batch_size):\n",
    "    train_dataloader = DataLoader(train_dataset, batch_size=batch_size, shuffle=True)\n",
    "    \n",
    "    # Define the loss function\n",
    "    if optimizer_type == 'adam':\n",
    "        optimizer = optim.Adam(model.parameters(), lr=0.001)\n",
    "    elif optimizer_type == 'sgd':\n",
    "        optimizer = optim.SGD(model.parameters(), lr=0.001)\n",
    "    criterion = nn.CrossEntropyLoss()\n",
    "\n",
    "    # Set the model to training mode\n",
    "    model.train()\n",
    "\n",
    "    for epoch in range(1):\n",
    "        # Iterate over the training data\n",
    "        for images, labels in train_dataloader:\n",
    "            # Zero the gradients\n",
    "            optimizer.zero_grad()\n",
    "            \n",
    "            # Forward pass\n",
    "            outputs = model(images)\n",
    "            \n",
    "            # Compute the loss\n",
    "            loss = criterion(outputs, labels)\n",
    "            \n",
    "            # Backward pass\n",
    "            loss.backward()\n",
    "            \n",
    "            # Update the model's parameters\n",
    "            optimizer.step()\n",
    "        \n",
    "        print(f\"Finished epoch {epoch + 1}\")\n"
   ]
  },
  {
   "cell_type": "code",
   "execution_count": 37,
   "metadata": {},
   "outputs": [],
   "source": [
    "import torch\n",
    "import torch.nn.functional as F\n",
    "import matplotlib.pyplot as plt\n",
    "\n",
    "def eval_model(model):\n",
    "\n",
    "    # Set the model to evaluation mode\n",
    "    model.eval()\n",
    "\n",
    "    # Disable gradient calculation\n",
    "    with torch.no_grad():\n",
    "        # Initialize variables for accuracy calculation\n",
    "        total = 0\n",
    "        correct = 0\n",
    "\n",
    "        # Iterate over the test data\n",
    "        for images, labels in test_dataloader:\n",
    "            # Forward pass\n",
    "            outputs = model(images)\n",
    "            \n",
    "            # Get the predicted labels\n",
    "            _, predicted = torch.max(outputs.data, 1)\n",
    "            \n",
    "            # Update the total and correct counts\n",
    "            total += labels.size(0)\n",
    "            correct += (predicted == labels).sum().item()\n",
    "\n",
    "        # Calculate the accuracy\n",
    "        accuracy = correct / total * 100\n",
    "        print(f\"Accuracy: {accuracy:.2f}%\")\n",
    "\n",
    "        # # Plot a random sample of test images with their predicted labels\n",
    "        # fig, axes = plt.subplots(2, 5, figsize=(12, 6))\n",
    "        # fig.suptitle(\"Random Sample of Test Images with Predicted Labels\", fontsize=16)\n",
    "        # axes = axes.flatten()\n",
    "        # for i in range(10):\n",
    "        #     image = images[i].squeeze().numpy()\n",
    "        #     label = predicted[i].item()\n",
    "        #     axes[i].imshow(image, cmap='gray')\n",
    "        #     axes[i].set_title(f\"Predicted: {label}\")\n",
    "        #     axes[i].axis('off')\n",
    "        # plt.tight_layout()\n",
    "        # plt.show()\n",
    "    return accuracy\n"
   ]
  },
  {
   "cell_type": "code",
   "execution_count": 39,
   "metadata": {},
   "outputs": [
    {
     "ename": "ValueError",
     "evalue": "batch_size attribute should not be set after DataLoader is initialized",
     "output_type": "error",
     "traceback": [
      "\u001b[0;31m---------------------------------------------------------------------------\u001b[0m",
      "\u001b[0;31mValueError\u001b[0m                                Traceback (most recent call last)",
      "Cell \u001b[0;32mIn[39], line 16\u001b[0m\n\u001b[1;32m     13\u001b[0m     accuracies[activation_function][optimizer] \u001b[38;5;241m=\u001b[39m []\n\u001b[1;32m     15\u001b[0m \u001b[38;5;28;01mfor\u001b[39;00m batch_size \u001b[38;5;129;01min\u001b[39;00m batch_sizes:\n\u001b[0;32m---> 16\u001b[0m     \u001b[43mtrain_model\u001b[49m\u001b[43m(\u001b[49m\u001b[43mmodel\u001b[49m\u001b[43m,\u001b[49m\u001b[43m \u001b[49m\u001b[43moptimizer\u001b[49m\u001b[43m,\u001b[49m\u001b[43m \u001b[49m\u001b[43mbatch_size\u001b[49m\u001b[43m)\u001b[49m\n\u001b[1;32m     17\u001b[0m     accuracy \u001b[38;5;241m=\u001b[39m eval_model(model)\n\u001b[1;32m     19\u001b[0m     accuracies[activation_function][optimizer]\u001b[38;5;241m.\u001b[39mappend(accuracy)\n",
      "Cell \u001b[0;32mIn[36], line 5\u001b[0m, in \u001b[0;36mtrain_model\u001b[0;34m(model, optimizer_type, batch_size)\u001b[0m\n\u001b[1;32m      4\u001b[0m \u001b[38;5;28;01mdef\u001b[39;00m \u001b[38;5;21mtrain_model\u001b[39m(model, optimizer_type, batch_size):\n\u001b[0;32m----> 5\u001b[0m     \u001b[43mtrain_dataloader\u001b[49m\u001b[38;5;241;43m.\u001b[39;49m\u001b[43mbatch_size\u001b[49m \u001b[38;5;241m=\u001b[39m batch_size\n\u001b[1;32m      7\u001b[0m     \u001b[38;5;66;03m# Define the loss function\u001b[39;00m\n\u001b[1;32m      8\u001b[0m     \u001b[38;5;28;01mif\u001b[39;00m optimizer_type \u001b[38;5;241m==\u001b[39m \u001b[38;5;124m'\u001b[39m\u001b[38;5;124madam\u001b[39m\u001b[38;5;124m'\u001b[39m:\n",
      "File \u001b[0;32m~/miniconda3/envs/deeplearning/lib/python3.12/site-packages/torch/utils/data/dataloader.py:420\u001b[0m, in \u001b[0;36mDataLoader.__setattr__\u001b[0;34m(self, attr, val)\u001b[0m\n\u001b[1;32m    417\u001b[0m \u001b[38;5;28;01mdef\u001b[39;00m \u001b[38;5;21m__setattr__\u001b[39m(\u001b[38;5;28mself\u001b[39m, attr, val):\n\u001b[1;32m    418\u001b[0m     \u001b[38;5;28;01mif\u001b[39;00m \u001b[38;5;28mself\u001b[39m\u001b[38;5;241m.\u001b[39m__initialized \u001b[38;5;129;01mand\u001b[39;00m attr \u001b[38;5;129;01min\u001b[39;00m (\n\u001b[1;32m    419\u001b[0m             \u001b[38;5;124m'\u001b[39m\u001b[38;5;124mbatch_size\u001b[39m\u001b[38;5;124m'\u001b[39m, \u001b[38;5;124m'\u001b[39m\u001b[38;5;124mbatch_sampler\u001b[39m\u001b[38;5;124m'\u001b[39m, \u001b[38;5;124m'\u001b[39m\u001b[38;5;124msampler\u001b[39m\u001b[38;5;124m'\u001b[39m, \u001b[38;5;124m'\u001b[39m\u001b[38;5;124mdrop_last\u001b[39m\u001b[38;5;124m'\u001b[39m, \u001b[38;5;124m'\u001b[39m\u001b[38;5;124mdataset\u001b[39m\u001b[38;5;124m'\u001b[39m, \u001b[38;5;124m'\u001b[39m\u001b[38;5;124mpersistent_workers\u001b[39m\u001b[38;5;124m'\u001b[39m):\n\u001b[0;32m--> 420\u001b[0m         \u001b[38;5;28;01mraise\u001b[39;00m \u001b[38;5;167;01mValueError\u001b[39;00m(\u001b[38;5;124mf\u001b[39m\u001b[38;5;124m'\u001b[39m\u001b[38;5;132;01m{\u001b[39;00mattr\u001b[38;5;132;01m}\u001b[39;00m\u001b[38;5;124m attribute should not be set after \u001b[39m\u001b[38;5;132;01m{\u001b[39;00m\u001b[38;5;28mself\u001b[39m\u001b[38;5;241m.\u001b[39m\u001b[38;5;18m__class__\u001b[39m\u001b[38;5;241m.\u001b[39m\u001b[38;5;18m__name__\u001b[39m\u001b[38;5;132;01m}\u001b[39;00m\u001b[38;5;124m is initialized\u001b[39m\u001b[38;5;124m'\u001b[39m)\n\u001b[1;32m    422\u001b[0m     \u001b[38;5;28msuper\u001b[39m()\u001b[38;5;241m.\u001b[39m\u001b[38;5;21m__setattr__\u001b[39m(attr, val)\n",
      "\u001b[0;31mValueError\u001b[0m: batch_size attribute should not be set after DataLoader is initialized"
     ]
    }
   ],
   "source": [
    "accuracies = {}\n",
    "batch_sizes = [1, 10, 100]\n",
    "optimizers = ['adam', 'sgd']\n",
    "activation_functions = ['relu', 'selu', 'sigmoid']\n",
    "\n",
    "for activation_function in activation_functions:\n",
    "    model = FashionMNISTClassifier(activation_function=activation_function)\n",
    "    if accuracies.get(activation_function) == None:\n",
    "        accuracies[activation_function] = {}\n",
    "\n",
    "    for optimizer in optimizers:\n",
    "        if accuracies.get(activation_function).get(optimizer) == None:\n",
    "            accuracies[activation_function][optimizer] = []\n",
    "\n",
    "        for batch_size in batch_sizes:\n",
    "            train_model(model, optimizer, batch_size)\n",
    "            accuracy = eval_model(model)\n",
    "\n",
    "            accuracies[activation_function][optimizer].append(accuracy)"
   ]
  },
  {
   "cell_type": "code",
   "execution_count": null,
   "metadata": {},
   "outputs": [
    {
     "data": {
      "image/png": "[encoded data removed]",
      "text/plain": [
       "<Figure size 640x480 with 1 Axes>"
      ]
     },
     "metadata": {},
     "output_type": "display_data"
    }
   ],
   "source": [
    "import matplotlib.pyplot as plt\n",
    "\n",
    "activation_functions = ['ReLU', 'SELU', 'Sigmoid']\n",
    "\n",
    "plt.bar(activation_functions, accuracies)\n",
    "plt.xlabel('Activation Function')\n",
    "plt.ylabel('Accuracy')\n",
    "plt.title('Accuracies for Different Activation Functions')\n",
    "plt.show()\n"
   ]
  }
 ],
 "metadata": {
  "kernelspec": {
   "display_name": "deeplearning",
   "language": "python",
   "name": "python3"
  },
  "language_info": {
   "codemirror_mode": {
    "name": "ipython",
    "version": 3
   },
   "file_extension": ".py",
   "mimetype": "text/x-python",
   "name": "python",
   "nbconvert_exporter": "python",
   "pygments_lexer": "ipython3",
   "version": "3.12.2"
  }
 },
 "nbformat": 4,
 "nbformat_minor": 2
}
