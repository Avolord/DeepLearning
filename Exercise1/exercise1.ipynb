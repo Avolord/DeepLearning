{
 "cells": [
  {
   "cell_type": "code",
   "execution_count": 2,
   "metadata": {},
   "outputs": [],
   "source": [
    "import torch\n",
    "import torchvision\n",
    "from torchvision.transforms import transforms"
   ]
  },
  {
   "cell_type": "code",
   "execution_count": 3,
   "metadata": {},
   "outputs": [],
   "source": [
    "# Load the dataset\n",
    "train_dataset = torchvision.datasets.FashionMNIST('./data', train=True, download=True, transform=transforms.ToTensor())\n",
    "test_dataset = torchvision.datasets.FashionMNIST('./data', train=False, download=True, transform=transforms.ToTensor())"
   ]
  },
  {
   "cell_type": "code",
   "execution_count": 4,
   "metadata": {},
   "outputs": [],
   "source": [
    "from torch.utils.data import DataLoader\n",
    "\n",
    "train_dataloader = DataLoader(train_dataset, batch_size=64, shuffle=True)\n",
    "test_dataloader = DataLoader(test_dataset, batch_size=64, shuffle=True)"
   ]
  },
  {
   "cell_type": "code",
   "execution_count": 5,
   "metadata": {},
   "outputs": [],
   "source": [
    "import torch\n",
    "#define a suitable architecture for classifying the fashion mnist dataset\n",
    "import torch.nn as nn\n",
    "\n",
    "class FashionMNISTClassifier(nn.Module):\n",
    "    def get_activation_function(self, activation_function: str):\n",
    "        if activation_function == 'relu':\n",
    "            return nn.ReLU()\n",
    "        elif activation_function == 'selu':\n",
    "            return nn.SELU()\n",
    "        elif activation_function == 'sigmoid':\n",
    "            return nn.Sigmoid()\n",
    "\n",
    "    def __init__(self, activation_function: str):\n",
    "        super(FashionMNISTClassifier, self).__init__()\n",
    "        \n",
    "        self.conv_stack = nn.Sequential(\n",
    "            nn.Conv2d(1, 16, kernel_size=3, stride=1, padding=1),\n",
    "            self.get_activation_function(activation_function),\n",
    "            nn.MaxPool2d(kernel_size=2, stride=2),\n",
    "            nn.Conv2d(16, 32, kernel_size=3, stride=1, padding=1),\n",
    "            self.get_activation_function(activation_function),\n",
    "            nn.MaxPool2d(kernel_size=2, stride=2)\n",
    "        )\n",
    "\n",
    "        self.linear_stack = nn.Sequential(\n",
    "            nn.Linear(7*7*32, 128),\n",
    "            self.get_activation_function(activation_function),\n",
    "            nn.Linear(128, 10)\n",
    "        )\n",
    "\n",
    "        \n",
    "        \n",
    "    def forward(self, x):\n",
    "        x = self.conv_stack(x)\n",
    "        x = x.view(x.size(0), -1)\n",
    "        x = self.linear_stack(x)\n",
    "        \n",
    "        return x\n"
   ]
  },
  {
   "cell_type": "code",
   "execution_count": 6,
   "metadata": {},
   "outputs": [],
   "source": [
    "import torch.optim as optim\n",
    "import torch.nn as nn\n",
    "\n",
    "def train_model(model, optimizer_type, batch_size):\n",
    "    train_dataloader = DataLoader(train_dataset, batch_size=batch_size, shuffle=True)\n",
    "    \n",
    "    # Define the loss function\n",
    "    if optimizer_type == 'adam':\n",
    "        optimizer = optim.Adam(model.parameters(), lr=0.001)\n",
    "    elif optimizer_type == 'sgd':\n",
    "        optimizer = optim.SGD(model.parameters(), lr=0.001)\n",
    "    criterion = nn.CrossEntropyLoss()\n",
    "\n",
    "    # Set the model to training mode\n",
    "    model.train()\n",
    "\n",
    "    for epoch in range(1):\n",
    "        # Iterate over the training data\n",
    "        for images, labels in train_dataloader:\n",
    "            # Zero the gradients\n",
    "            optimizer.zero_grad()\n",
    "            \n",
    "            # Forward pass\n",
    "            outputs = model(images)\n",
    "            \n",
    "            # Compute the loss\n",
    "            loss = criterion(outputs, labels)\n",
    "            \n",
    "            # Backward pass\n",
    "            loss.backward()\n",
    "            \n",
    "            # Update the model's parameters\n",
    "            optimizer.step()\n",
    "        \n",
    "        print(f\"Finished epoch {epoch + 1}\")\n"
   ]
  },
  {
   "cell_type": "code",
   "execution_count": 7,
   "metadata": {},
   "outputs": [],
   "source": [
    "import torch\n",
    "import torch.nn.functional as F\n",
    "import matplotlib.pyplot as plt\n",
    "\n",
    "def eval_model(model):\n",
    "\n",
    "    # Set the model to evaluation mode\n",
    "    model.eval()\n",
    "\n",
    "    # Disable gradient calculation\n",
    "    with torch.no_grad():\n",
    "        # Initialize variables for accuracy calculation\n",
    "        total = 0\n",
    "        correct = 0\n",
    "\n",
    "        # Iterate over the test data\n",
    "        for images, labels in test_dataloader:\n",
    "            # Forward pass\n",
    "            outputs = model(images)\n",
    "            \n",
    "            # Get the predicted labels\n",
    "            _, predicted = torch.max(outputs.data, 1)\n",
    "            \n",
    "            # Update the total and correct counts\n",
    "            total += labels.size(0)\n",
    "            correct += (predicted == labels).sum().item()\n",
    "\n",
    "        # Calculate the accuracy\n",
    "        accuracy = correct / total * 100\n",
    "        print(f\"Accuracy: {accuracy:.2f}%\")\n",
    "\n",
    "        # # Plot a random sample of test images with their predicted labels\n",
    "        # fig, axes = plt.subplots(2, 5, figsize=(12, 6))\n",
    "        # fig.suptitle(\"Random Sample of Test Images with Predicted Labels\", fontsize=16)\n",
    "        # axes = axes.flatten()\n",
    "        # for i in range(10):\n",
    "        #     image = images[i].squeeze().numpy()\n",
    "        #     label = predicted[i].item()\n",
    "        #     axes[i].imshow(image, cmap='gray')\n",
    "        #     axes[i].set_title(f\"Predicted: {label}\")\n",
    "        #     axes[i].axis('off')\n",
    "        # plt.tight_layout()\n",
    "        # plt.show()\n",
    "    return accuracy\n"
   ]
  },
  {
   "cell_type": "code",
   "execution_count": 8,
   "metadata": {},
   "outputs": [],
   "source": [
    "accuracies = {}\n",
    "batch_sizes = [1, 10, 100]\n",
    "optimizers = ['adam', 'sgd']\n",
    "activation_functions = ['relu', 'selu', 'sigmoid']\n",
    "\n",
    "def train_for_activation_function(activation_function: str):\n",
    "    model = FashionMNISTClassifier(activation_function=activation_function)\n",
    "    if accuracies.get(activation_function) == None:\n",
    "        accuracies[activation_function] = {}\n",
    "\n",
    "    for optimizer in optimizers:\n",
    "        if accuracies.get(activation_function).get(optimizer) == None:\n",
    "            accuracies[activation_function][optimizer] = []\n",
    "\n",
    "        for batch_size in batch_sizes:\n",
    "            train_model(model, optimizer, batch_size)\n",
    "            accuracy = eval_model(model)\n",
    "\n",
    "            accuracies[activation_function][optimizer].append(accuracy)"
   ]
  },
  {
   "cell_type": "code",
   "execution_count": 10,
   "metadata": {},
   "outputs": [
    {
     "name": "stdout",
     "output_type": "stream",
     "text": [
      "Finished epoch 1\n",
      "Accuracy: 87.49%\n",
      "Finished epoch 1\n",
      "Accuracy: 89.80%\n",
      "Finished epoch 1\n",
      "Accuracy: 90.79%\n",
      "Finished epoch 1\n",
      "Accuracy: 90.87%\n",
      "Finished epoch 1\n",
      "Accuracy: 91.26%\n",
      "Finished epoch 1\n",
      "Accuracy: 91.14%\n"
     ]
    }
   ],
   "source": [
    "#RELU\n",
    "train_for_activation_function('relu')"
   ]
  },
  {
   "cell_type": "code",
   "execution_count": 12,
   "metadata": {},
   "outputs": [
    {
     "name": "stdout",
     "output_type": "stream",
     "text": [
      "Finished epoch 1\n",
      "Accuracy: 87.54%\n",
      "Finished epoch 1\n",
      "Accuracy: 89.97%\n",
      "Finished epoch 1\n",
      "Accuracy: 91.45%\n",
      "Finished epoch 1\n",
      "Accuracy: 90.85%\n",
      "Finished epoch 1\n",
      "Accuracy: 91.49%\n",
      "Finished epoch 1\n",
      "Accuracy: 91.59%\n"
     ]
    }
   ],
   "source": [
    "#SELU\n",
    "train_for_activation_function('selu')"
   ]
  },
  {
   "cell_type": "code",
   "execution_count": 14,
   "metadata": {},
   "outputs": [
    {
     "name": "stdout",
     "output_type": "stream",
     "text": [
      "Finished epoch 1\n",
      "Accuracy: 84.01%\n",
      "Finished epoch 1\n",
      "Accuracy: 87.54%\n",
      "Finished epoch 1\n",
      "Accuracy: 88.36%\n",
      "Finished epoch 1\n",
      "Accuracy: 88.97%\n",
      "Finished epoch 1\n",
      "Accuracy: 89.25%\n",
      "Finished epoch 1\n",
      "Accuracy: 89.22%\n"
     ]
    }
   ],
   "source": [
    "#SIGMOID\n",
    "train_for_activation_function('sigmoid')"
   ]
  },
  {
   "cell_type": "code",
   "execution_count": 15,
   "metadata": {},
   "outputs": [],
   "source": [
    "#save the accuracies in a file\n",
    "import json\n",
    "# Specify the file path\n",
    "file_path = 'Exercise1/accuracies.json'\n",
    "\n",
    "# Convert the accuracies dictionary to a JSON string\n",
    "accuracies_json = json.dumps(accuracies)\n",
    "\n",
    "# Write the JSON string to the file\n",
    "with open(file_path, 'w') as file:\n",
    "    file.write(accuracies_json)\n"
   ]
  },
  {
   "cell_type": "code",
   "execution_count": 16,
   "metadata": {},
   "outputs": [
    {
     "data": {
      "image/png": "[encoded data removed]",
      "text/plain": [
       "<Figure size 640x480 with 1 Axes>"
      ]
     },
     "metadata": {},
     "output_type": "display_data"
    }
   ],
   "source": [
    "import matplotlib.pyplot as plt\n",
    "\n",
    "# Plot the accuracies dictionary\n",
    "for activation_function in accuracies.keys():\n",
    "    for optimizer in accuracies[activation_function].keys():\n",
    "        plt.plot(batch_sizes, accuracies[activation_function][optimizer], label=f\"{activation_function} - {optimizer}\")\n",
    "\n",
    "# Set the plot title and labels\n",
    "plt.title(\"Accuracies by Activation Function, Optimizer, and Batch Size\")\n",
    "plt.xlabel(\"Batch Size\")\n",
    "plt.ylabel(\"Accuracy\")\n",
    "\n",
    "# Add a legend\n",
    "plt.legend()\n",
    "\n",
    "# Show the plot\n",
    "plt.show()\n",
    "\n"
   ]
  }
 ],
 "metadata": {
  "kernelspec": {
   "display_name": "deeplearning",
   "language": "python",
   "name": "python3"
  },
  "language_info": {
   "codemirror_mode": {
    "name": "ipython",
    "version": 3
   },
   "file_extension": ".py",
   "mimetype": "text/x-python",
   "name": "python",
   "nbconvert_exporter": "python",
   "pygments_lexer": "ipython3",
   "version": "3.12.2"
  }
 },
 "nbformat": 4,
 "nbformat_minor": 2
}
